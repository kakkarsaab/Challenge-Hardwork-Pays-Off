{
 "cells": [
  {
   "cell_type": "code",
   "execution_count": 11,
   "metadata": {},
   "outputs": [],
   "source": [
    "# Importing all the necessary libraries\n",
    "import pandas as pd\n",
    "import numpy as np\n",
    "import matplotlib.pyplot as plt"
   ]
  },
  {
   "cell_type": "code",
   "execution_count": 12,
   "metadata": {},
   "outputs": [
    {
     "name": "stdout",
     "output_type": "stream",
     "text": [
      "(3750, 1)\n",
      "(3750, 1)\n"
     ]
    }
   ],
   "source": [
    "# Rading the datasets\n",
    "dfx = pd.read_csv(\"F:\\MachineLearning CB\\Challenge-1 Hardwork Pays Off\\Training Data\\Linear_X_Train.csv\")\n",
    "dfy = pd.read_csv(\"F:\\MachineLearning CB\\Challenge-1 Hardwork Pays Off\\Training Data\\Linear_Y_Train.csv\")  \n",
    "dfx_Test = pd.read_csv(\"F:\\MachineLearning CB\\Challenge-1 Hardwork Pays Off\\Test Cases\\Linear_X_Test.csv\")\n",
    "\n",
    "# Printing the shape of the dataset\n",
    "print(dfx.shape)\n",
    "print(dfy.shape)"
   ]
  },
  {
   "cell_type": "code",
   "execution_count": 13,
   "metadata": {},
   "outputs": [],
   "source": [
    "# Converting dataframes into the nuumpy arrays\n",
    "X = dfx.values\n",
    "Y = dfy.values\n",
    "X_test  = dfx_Test.values"
   ]
  },
  {
   "cell_type": "code",
   "execution_count": 56,
   "metadata": {},
   "outputs": [],
   "source": [
    "# Normalizing the data\n",
    "X = (X-X.mean())/X.std()"
   ]
  },
  {
   "cell_type": "code",
   "execution_count": 43,
   "metadata": {},
   "outputs": [],
   "source": [
    "#Creating hypothesis function according the rule which will return the value of Y_Predicted\n",
    "def hypothesis(x,theta):\n",
    "    return(theta[0]+theta[1]*x)\n",
    "   \n",
    "\"\"\"Creating a function which will take the value of X and theta(already calculated) and will return an array...\n",
    "...containing the predicted values according to given X and theta.\"\"\"\n",
    "def prediction(X,theta):\n",
    "    m=X.shape[0]\n",
    "    Y_Predicted=[]\n",
    "    for i in range(m):\n",
    "        y=hypothesis(X[i],theta)\n",
    "        Y_Predicted.append(y)\n",
    "    Y_Predicted=np.array(Y_Predicted)\n",
    "    return(Y_Predicted)\n",
    "    \n",
    "\"\"\"Creating an error fucntion here according to the formula and returning the same.\n",
    "We have created it to get the error value so we can save them in a list in order to plot the error graph.\"\"\"\n",
    "def get_error(X,Y,theta):\n",
    "    error=0\n",
    "    m=X.shape[0]\n",
    "    for i in range(m):\n",
    "        hx=hypothesis(X[i],theta)\n",
    "        error+=(hx-Y[i])**2\n",
    "    return(error)\n",
    "    \n",
    "\"\"\"Since the dataset is big, so we are using the minibatch method. Taking the batch size=30 and then...\n",
    "...creating random examples of the batch size\"\"\"\n",
    "def batch_gradient(X,Y,theta,batch_size=30):\n",
    "    m=X.shape[0]\n",
    "    #creates an array [0,1,2,.....,m-1]\n",
    "    random_examples=np.arange(m)\n",
    "    #this shuffles the values of array\n",
    "    np.random.shuffle(random_examples)            \n",
    "    #This creates an array of batch size containing random indexes\n",
    "    random_examples=random_examples[:batch_size]  \n",
    "    #creating gradient array and intializing it to zero\n",
    "    grad=np.zeros((2,))                           \n",
    "    for i in random_examples:\n",
    "        hx=hypothesis(X[i],theta)\n",
    "        grad[0]+=(hx-Y[i])                        \n",
    "        grad[1]+=(hx-Y[i])*X[i]\n",
    "    return(grad)\n",
    "\n",
    "    \n",
    "def minibatch_gradient_descent(X,Y,batch_size=30,learning_rate=0.001):\n",
    "    theta=np.zeros((2,))\n",
    "    error_values=[]\n",
    "    batches=int(X.shape[0]/batch_size)            #defining total number of batches here.\n",
    "    for i in range(batches):\n",
    "        grad=batch_gradient(X,Y,theta,batch_size=30)\n",
    "        error=get_error(X,Y,theta)          \n",
    "        error_values.append(error)             \n",
    "        theta[0]-=learning_rate*grad[0]          \n",
    "        theta[1]-=learning_rate*grad[1]\n",
    "    return(theta,error_values)"
   ]
  },
  {
   "cell_type": "code",
   "execution_count": 49,
   "metadata": {},
   "outputs": [],
   "source": [
    "theta,error_values = minibatch_gradient_descent(X,Y,30,0.001)"
   ]
  },
  {
   "cell_type": "code",
   "execution_count": 50,
   "metadata": {},
   "outputs": [
    {
     "data": {
      "image/png": "[encoded data removed]",
      "text/plain": [
       "<Figure size 432x288 with 1 Axes>"
      ]
     },
     "metadata": {
      "needs_background": "light"
     },
     "output_type": "display_data"
    }
   ],
   "source": [
    "plt.plot(error_values)\n",
    "plt.show()"
   ]
  },
  {
   "cell_type": "code",
   "execution_count": 70,
   "metadata": {},
   "outputs": [
    {
     "name": "stdout",
     "output_type": "stream",
     "text": [
      "The values of intercept and slope are\n",
      "[ 0.57585083 78.30991907]\n"
     ]
    }
   ],
   "source": [
    "print(\"The values of intercept and slope are\")\n",
    "print(theta)"
   ]
  },
  {
   "cell_type": "code",
   "execution_count": 71,
   "metadata": {},
   "outputs": [
    {
     "data": {
      "image/png": "[encoded data removed]",
      "text/plain": [
       "<Figure size 432x288 with 1 Axes>"
      ]
     },
     "metadata": {
      "needs_background": "light"
     },
     "output_type": "display_data"
    }
   ],
   "source": [
    "plt.scatter(X,Y,label=\"Actual Values\")\n",
    "#Creating some Xtest values in order to plot a line over the scatter plot to see how efficient our graph is\n",
    "xt=np.arange(-4,6)                               \n",
    "#Plotting the Line by predicting the values according to given and derived thetas.\n",
    "plt.plot(xt,hypothesis(xt,theta),color='r',label=\"Predicted Value \") \n",
    "plt.legend() \n",
    "plt.show()\n"
   ]
  },
  {
   "cell_type": "code",
   "execution_count": 69,
   "metadata": {},
   "outputs": [
    {
     "name": "stdout",
     "output_type": "stream",
     "text": [
      "[[-146.48582426]\n",
      " [ -67.47796818]\n",
      " [-197.56253008]\n",
      " ...\n",
      " [  10.60013294]\n",
      " [ -21.19725032]\n",
      " [ -52.70820941]]\n"
     ]
    }
   ],
   "source": [
    "Y_Predicted_Values=prediction(X_test,theta)\n",
    "print(Y_Predicted_Values)"
   ]
  },
  {
   "cell_type": "code",
   "execution_count": null,
   "metadata": {},
   "outputs": [],
   "source": []
  },
  {
   "cell_type": "code",
   "execution_count": null,
   "metadata": {},
   "outputs": [],
   "source": []
  }
 ],
 "metadata": {
  "kernelspec": {
   "display_name": "Python 3",
   "language": "python",
   "name": "python3"
  },
  "language_info": {
   "codemirror_mode": {
    "name": "ipython",
    "version": 3
   },
   "file_extension": ".py",
   "mimetype": "text/x-python",
   "name": "python",
   "nbconvert_exporter": "python",
   "pygments_lexer": "ipython3",
   "version": "3.7.3"
  }
 },
 "nbformat": 4,
 "nbformat_minor": 2
}
